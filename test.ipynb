{
 "cells": [
  {
   "cell_type": "code",
   "execution_count": 43,
   "id": "2a23804c",
   "metadata": {},
   "outputs": [
    {
     "name": "stdout",
     "output_type": "stream",
     "text": [
      "done building\n"
     ]
    },
    {
     "data": {
      "text/plain": [
       "DecisionTree(criterion='gini_index', max_depth=5)"
      ]
     },
     "execution_count": 43,
     "metadata": {},
     "output_type": "execute_result"
    }
   ],
   "source": [
    "import numpy as np\n",
    "import pandas as pd\n",
    "import matplotlib.pyplot as plt\n",
    "from tree.base import DecisionTree\n",
    "from metrics import *\n",
    "\n",
    "np.random.seed(42)\n",
    "# Test case 1\n",
    "# Real Input and Real Output\n",
    "\n",
    "N = 30\n",
    "P = 5\n",
    "X = pd.DataFrame(\n",
    "    {col: pd.Series(np.random.randint(P, size=N), dtype=\"category\") \n",
    "     for col in 'a b c d e'.split()}\n",
    ")\n",
    "y = pd.Series(np.random.randint(P, size=N), dtype=\"category\")\n",
    "\n",
    "tree = None\n",
    "\n",
    "for criteria in [\"gini_index\"]:\n",
    "    tree = DecisionTree(criterion=criteria)\n",
    "    tree.fit(X,y)\n",
    "\n",
    "tree"
   ]
  },
  {
   "cell_type": "code",
   "execution_count": 1,
   "id": "6af4a4f4",
   "metadata": {},
   "outputs": [
    {
     "name": "stdout",
     "output_type": "stream",
     "text": [
      "RangeIndex(start=0, stop=5, step=1)\n",
      "RangeIndex(start=0, stop=5, step=1)\n",
      "RangeIndex(start=0, stop=5, step=1)\n",
      "RangeIndex(start=0, stop=5, step=1)\n",
      "RangeIndex(start=0, stop=5, step=1)\n",
      "RangeIndex(start=0, stop=5, step=1)\n",
      "RangeIndex(start=0, stop=5, step=1)\n",
      "RangeIndex(start=0, stop=5, step=1)\n",
      "RangeIndex(start=0, stop=5, step=1)\n",
      "RangeIndex(start=0, stop=5, step=1)\n",
      "RangeIndex(start=0, stop=5, step=1)\n",
      "RangeIndex(start=0, stop=5, step=1)\n",
      "done building\n",
      "RangeIndex(start=0, stop=5, step=1)\n",
      "RangeIndex(start=0, stop=5, step=1)\n",
      "RangeIndex(start=0, stop=5, step=1)\n",
      "RangeIndex(start=0, stop=5, step=1)\n",
      "RangeIndex(start=0, stop=5, step=1)\n",
      "RangeIndex(start=0, stop=5, step=1)\n",
      "RangeIndex(start=0, stop=5, step=1)\n",
      "RangeIndex(start=0, stop=5, step=1)\n",
      "RangeIndex(start=0, stop=5, step=1)\n",
      "RangeIndex(start=0, stop=5, step=1)\n",
      "RangeIndex(start=0, stop=5, step=1)\n",
      "RangeIndex(start=0, stop=5, step=1)\n",
      "done building\n",
      "RangeIndex(start=0, stop=5, step=1)\n",
      "RangeIndex(start=0, stop=5, step=1)\n",
      "RangeIndex(start=0, stop=5, step=1)\n",
      "RangeIndex(start=0, stop=5, step=1)\n",
      "RangeIndex(start=0, stop=5, step=1)\n",
      "RangeIndex(start=0, stop=5, step=1)\n",
      "RangeIndex(start=0, stop=5, step=1)\n",
      "RangeIndex(start=0, stop=5, step=1)\n",
      "RangeIndex(start=0, stop=5, step=1)\n",
      "RangeIndex(start=0, stop=5, step=1)\n",
      "RangeIndex(start=0, stop=5, step=1)\n",
      "RangeIndex(start=0, stop=5, step=1)\n",
      "done building\n",
      "RangeIndex(start=0, stop=5, step=1)\n",
      "RangeIndex(start=0, stop=5, step=1)\n",
      "RangeIndex(start=0, stop=5, step=1)\n",
      "RangeIndex(start=0, stop=5, step=1)\n",
      "RangeIndex(start=0, stop=5, step=1)\n",
      "RangeIndex(start=0, stop=5, step=1)\n",
      "RangeIndex(start=0, stop=5, step=1)\n",
      "RangeIndex(start=0, stop=5, step=1)\n",
      "RangeIndex(start=0, stop=5, step=1)\n",
      "RangeIndex(start=0, stop=5, step=1)\n",
      "RangeIndex(start=0, stop=5, step=1)\n",
      "RangeIndex(start=0, stop=5, step=1)\n",
      "done building\n",
      "Int64Index([0, 1, 2, 3, 4], dtype='int64')\n",
      "Int64Index([0, 2, 3, 4], dtype='int64')\n",
      "Int64Index([0, 2, 3], dtype='int64')\n",
      "Int64Index([0, 2, 3], dtype='int64')\n",
      "Int64Index([0, 2, 3, 4], dtype='int64')\n",
      "Int64Index([0, 2, 3, 4], dtype='int64')\n",
      "Int64Index([0, 2, 3, 4], dtype='int64')\n",
      "Int64Index([0, 2, 3], dtype='int64')\n",
      "Int64Index([0, 2, 3, 4], dtype='int64')\n",
      "Int64Index([2, 3, 4], dtype='int64')\n",
      "done building\n",
      "Int64Index([0, 1, 2, 3, 4], dtype='int64')\n",
      "Int64Index([0, 2, 3, 4], dtype='int64')\n",
      "Int64Index([0, 2, 3], dtype='int64')\n",
      "Int64Index([0, 2, 3], dtype='int64')\n",
      "Int64Index([0, 2, 3, 4], dtype='int64')\n",
      "Int64Index([0, 2, 3, 4], dtype='int64')\n",
      "Int64Index([0, 2, 3, 4], dtype='int64')\n",
      "Int64Index([0, 2, 3], dtype='int64')\n",
      "Int64Index([0, 2, 3, 4], dtype='int64')\n",
      "Int64Index([2, 3, 4], dtype='int64')\n",
      "done building\n",
      "Int64Index([0, 1, 2, 3, 4], dtype='int64')\n",
      "Int64Index([0, 1, 2, 3], dtype='int64')\n",
      "Int64Index([1, 2, 3], dtype='int64')\n",
      "Int64Index([0, 1, 2, 3], dtype='int64')\n",
      "Int64Index([0, 2, 3], dtype='int64')\n",
      "Int64Index([0, 1, 2, 3], dtype='int64')\n",
      "Int64Index([1, 2, 3], dtype='int64')\n",
      "Int64Index([1, 2, 3], dtype='int64')\n",
      "Int64Index([0, 1, 2, 3], dtype='int64')\n",
      "Int64Index([0, 1, 3], dtype='int64')\n",
      "Int64Index([0, 1, 2, 3], dtype='int64')\n",
      "Int64Index([0, 1, 2], dtype='int64')\n",
      "done building\n",
      "Int64Index([0, 1, 2, 3, 4], dtype='int64')\n",
      "Int64Index([0, 1, 2, 3], dtype='int64')\n",
      "Int64Index([1, 2, 3], dtype='int64')\n",
      "Int64Index([0, 1, 2, 3], dtype='int64')\n",
      "Int64Index([0, 2, 3], dtype='int64')\n",
      "Int64Index([0, 1, 2, 3], dtype='int64')\n",
      "Int64Index([1, 2, 3], dtype='int64')\n",
      "Int64Index([1, 2, 3], dtype='int64')\n",
      "Int64Index([0, 1, 2, 3], dtype='int64')\n",
      "Int64Index([0, 1, 3], dtype='int64')\n",
      "Int64Index([0, 1, 2, 3], dtype='int64')\n",
      "Int64Index([0, 1, 2], dtype='int64')\n",
      "done building\n"
     ]
    }
   ],
   "source": [
    "\"\"\"\n",
    "The current code given is for the Assignment 1.\n",
    "You will be expected to use this to make trees for:\n",
    "> discrete input, discrete output\n",
    "> real input, real output\n",
    "> real input, discrete output\n",
    "> discrete input, real output\n",
    "\"\"\"\n",
    "\n",
    "import numpy as np\n",
    "import pandas as pd\n",
    "import matplotlib.pyplot as plt\n",
    "from tree.base import DecisionTree\n",
    "from metrics import *\n",
    "\n",
    "np.random.seed(42)\n",
    "# Test case 1\n",
    "# Real Input and Real Output\n",
    "\n",
    "N = 30\n",
    "P = 5\n",
    "X = pd.DataFrame(np.random.randn(N, P))\n",
    "y = pd.Series(np.random.randn(N))\n",
    "\n",
    "\n",
    "for criteria in [\"information_gain\", \"gini_index\"]:\n",
    "    tree = DecisionTree(criterion=criteria)  # Split based on Inf. Gain\n",
    "    tree.fit(X, y)\n",
    "    # y_hat = tree.predict(X)\n",
    "    # tree.plot()\n",
    "    # print(\"Criteria :\", criteria)\n",
    "    # print(\"RMSE: \", rmse(y_hat, y))\n",
    "    # print(\"MAE: \", mae(y_hat, y))\n",
    "\n",
    "# Test case 2\n",
    "# Real Input and Discrete Output\n",
    "\n",
    "N = 30\n",
    "P = 5\n",
    "X = pd.DataFrame(np.random.randn(N, P))\n",
    "y = pd.Series(np.random.randint(P, size=N), dtype=\"category\")\n",
    "\n",
    "for criteria in [\"information_gain\", \"gini_index\"]:\n",
    "    tree = DecisionTree(criterion=criteria)  # Split based on Inf. Gain\n",
    "    tree.fit(X, y)\n",
    "    # y_hat = tree.predict(X)\n",
    "    # tree.plot()\n",
    "    # print(\"Criteria :\", criteria)\n",
    "    # print(\"Accuracy: \", accuracy(y_hat, y))\n",
    "    # for cls in y.unique():\n",
    "    #     print(\"Precision: \", precision(y_hat, y, cls))\n",
    "    #     print(\"Recall: \", recall(y_hat, y, cls))\n",
    "\n",
    "N = 30\n",
    "P = 5\n",
    "X = pd.DataFrame({i: pd.Series(np.random.randint(P, size=N), dtype=\"category\") for i in range(5)})\n",
    "y = pd.Series(np.random.randint(P, size=N), dtype=\"category\")\n",
    "\n",
    "for criteria in [\"information_gain\", \"gini_index\"]:\n",
    "    tree = DecisionTree(criterion=criteria)  # Split based on Inf. Gain\n",
    "    tree.fit(X, y)\n",
    "    # y_hat = tree.predict(X)\n",
    "    # tree.plot()\n",
    "    # print(\"Criteria :\", criteria)\n",
    "    # print(\"Accuracy: \", accuracy(y_hat, y))\n",
    "    # for cls in y.unique():\n",
    "    #     print(\"Precision: \", precision(y_hat, y, cls))\n",
    "    #     print(\"Recall: \", recall(y_hat, y, cls))\n",
    "\n",
    "# Test case 4\n",
    "# Discrete Input and Real Output\n",
    "\n",
    "N = 30\n",
    "P = 5\n",
    "X = pd.DataFrame({i: pd.Series(np.random.randint(P, size=N), dtype=\"category\") for i in range(5)})\n",
    "y = pd.Series(np.random.randn(N))\n",
    "\n",
    "for criteria in [\"information_gain\", \"gini_index\"]:\n",
    "    tree = DecisionTree(criterion=criteria)  # Split based on Inf. Gain\n",
    "    tree.fit(X, y)\n",
    "    # y_hat = tree.predict(X)\n",
    "    # tree.plot()\n",
    "    # print(\"Criteria :\", criteria)\n",
    "    # print(\"RMSE: \", rmse(y_hat, y))\n",
    "    # print(\"MAE: \", mae(y_hat, y))\n"
   ]
  },
  {
   "cell_type": "code",
   "execution_count": null,
   "id": "df6fa741",
   "metadata": {},
   "outputs": [
    {
     "data": {
      "text/plain": [
       "0.5"
      ]
     },
     "execution_count": 39,
     "metadata": {},
     "output_type": "execute_result"
    }
   ],
   "source": [
    "import pandas as pd\n",
    "import numpy as np\n",
    "\n",
    "N = 30\n",
    "P = 5\n",
    "y = pd.Series(np.random.randint(P, size=N), dtype=\"category\")\n",
    "y_hat =  pd.Series(np.random.randint(P, size=N), dtype=\"category\")\n",
    "\n",
    "tp = sum((y == cls) & (y_hat == cls))  \n",
    "fp = sum((y != cls) & (y_hat == cls))   \n",
    "\n",
    "precision = tp / (tp + fp) if (tp + fp) > 0 else 0.0\n",
    "# precision = tp/(tp + fp)\n",
    "precision\n"
   ]
  },
  {
   "cell_type": "code",
   "execution_count": 3,
   "id": "d6e2c960",
   "metadata": {},
   "outputs": [],
   "source": [
    "import pandas as pd\n",
    "import numpy as np\n",
    "import matplotlib.pyplot as plt\n",
    "from sklearn.datasets import make_classification\n",
    "import numpy as np\n",
    "import pandas as pd\n",
    "import matplotlib.pyplot as plt\n",
    "from tree.base import DecisionTree\n",
    "from metrics import *\n",
    "\n",
    "np.random.seed(42)\n",
    "\n",
    "# Code given in the question\n",
    "X, y = make_classification(\n",
    "    n_features=2, n_redundant=0, n_informative=2, random_state=1, n_clusters_per_class=2, class_sep=0.5)\n",
    "\n",
    "# For plotting\n",
    "# plt.scatter(X[:, 0], X[:, 1], c=y)"
   ]
  },
  {
   "cell_type": "code",
   "execution_count": 7,
   "id": "39eea35f",
   "metadata": {},
   "outputs": [
    {
     "name": "stdout",
     "output_type": "stream",
     "text": [
      "done building\n",
      "Criteria : gini_index\n",
      "(30,) (30,)\n",
      "Accuracy:  0.9\n",
      "Precision:  0.8947368421052632\n",
      "Recall:  0.9444444444444444\n",
      "Precision:  0.9090909090909091\n",
      "Recall:  0.8333333333333334\n"
     ]
    }
   ],
   "source": [
    "import pandas as pd\n",
    "import numpy as np\n",
    "import matplotlib.pyplot as plt\n",
    "from sklearn.datasets import make_classification\n",
    "import numpy as np\n",
    "import pandas as pd\n",
    "import matplotlib.pyplot as plt\n",
    "from tree.base import DecisionTree\n",
    "from metrics import *\n",
    "\n",
    "np.random.seed(42)\n",
    "X, y = make_classification(\n",
    "    n_features=2, n_redundant=0, n_informative=2, random_state=1, n_clusters_per_class=2, class_sep=0.5)\n",
    "X = pd.DataFrame(X)\n",
    "y = pd.Series(y, dtype=\"category\")\n",
    "criteria = \"gini_index\"\n",
    "tree = DecisionTree(criterion=criteria)  # Split based on Inf. Gain\n",
    "train_data_size = int(0.7*(len(X)))\n",
    "\n",
    "X_train, y_train, X_test, y_test = X[:train_data_size], y[:train_data_size], X[train_data_size:], y[train_data_size:]\n",
    "tree.fit(X_train, y_train)\n",
    "y_hat = tree.predict(X_test)\n",
    "tree.plot()\n",
    "print(\"Criteria :\", criteria)\n",
    "print(y_hat.shape, y_test.shape)\n",
    "print(\"Accuracy: \", accuracy(y_hat, y_test))\n",
    "for cls in y.unique():\n",
    "\n",
    "    print(\"Precision: \", precision(y_hat, y_test, cls))\n",
    "    print(\"Recall: \", recall(y_hat, y_test, cls))"
   ]
  },
  {
   "cell_type": "code",
   "execution_count": null,
   "id": "f86d09d8",
   "metadata": {},
   "outputs": [],
   "source": []
  },
  {
   "cell_type": "code",
   "execution_count": 2,
   "id": "94213562",
   "metadata": {},
   "outputs": [
    {
     "name": "stdout",
     "output_type": "stream",
     "text": [
      "done building\n",
      "(118,) (118,)\n",
      "RMSE:  10.714262463337404\n",
      "MAE:  8.483482982644803\n"
     ]
    }
   ],
   "source": [
    "import pandas as pd\n",
    "import numpy as np\n",
    "import matplotlib.pyplot as plt\n",
    "from tree.base import DecisionTree\n",
    "from metrics import *\n",
    "\n",
    "np.random.seed(42)\n",
    "\n",
    "# Reading the data\n",
    "url = 'https://archive.ics.uci.edu/ml/machine-learning-databases/auto-mpg/auto-mpg.data'\n",
    "data = pd.read_csv(url, delim_whitespace=True, header=None,\n",
    "                 names=[\"mpg\", \"cylinders\", \"displacement\", \"horsepower\", \"weight\",\n",
    "                        \"acceleration\", \"model year\", \"origin\", \"car name\"])\n",
    "\n",
    "data = data[~(data == '?').any(axis=1)].reset_index(drop = True)\n",
    "\n",
    "X = data.drop(columns = [\"mpg\",\"car name\"])\n",
    "y = data[\"mpg\"]\n",
    "\n",
    "criteria = \"entropy\"\n",
    "tree = DecisionTree(criterion=criteria)  # Split based on Inf. Gain\n",
    "train_data_size = int(0.7*(len(X)))\n",
    "\n",
    "X_train, y_train, X_test, y_test = X[:train_data_size], y[:train_data_size], X[train_data_size:], y[train_data_size:]\n",
    "tree.fit(X_train, y_train)\n",
    "y_hat = tree.predict(X_test)\n",
    "# tree.plot()\n",
    "print(y_hat.shape, y_test.shape)\n",
    "\n",
    "print(\"RMSE: \", rmse(y_hat, y))\n",
    "print(\"MAE: \", mae(y_hat, y))\n"
   ]
  },
  {
   "cell_type": "code",
   "execution_count": 3,
   "id": "1dcd86e1",
   "metadata": {},
   "outputs": [
    {
     "data": {
      "text/html": [
       "<style>#sk-container-id-1 {color: black;background-color: white;}#sk-container-id-1 pre{padding: 0;}#sk-container-id-1 div.sk-toggleable {background-color: white;}#sk-container-id-1 label.sk-toggleable__label {cursor: pointer;display: block;width: 100%;margin-bottom: 0;padding: 0.3em;box-sizing: border-box;text-align: center;}#sk-container-id-1 label.sk-toggleable__label-arrow:before {content: \"▸\";float: left;margin-right: 0.25em;color: #696969;}#sk-container-id-1 label.sk-toggleable__label-arrow:hover:before {color: black;}#sk-container-id-1 div.sk-estimator:hover label.sk-toggleable__label-arrow:before {color: black;}#sk-container-id-1 div.sk-toggleable__content {max-height: 0;max-width: 0;overflow: hidden;text-align: left;background-color: #f0f8ff;}#sk-container-id-1 div.sk-toggleable__content pre {margin: 0.2em;color: black;border-radius: 0.25em;background-color: #f0f8ff;}#sk-container-id-1 input.sk-toggleable__control:checked~div.sk-toggleable__content {max-height: 200px;max-width: 100%;overflow: auto;}#sk-container-id-1 input.sk-toggleable__control:checked~label.sk-toggleable__label-arrow:before {content: \"▾\";}#sk-container-id-1 div.sk-estimator input.sk-toggleable__control:checked~label.sk-toggleable__label {background-color: #d4ebff;}#sk-container-id-1 div.sk-label input.sk-toggleable__control:checked~label.sk-toggleable__label {background-color: #d4ebff;}#sk-container-id-1 input.sk-hidden--visually {border: 0;clip: rect(1px 1px 1px 1px);clip: rect(1px, 1px, 1px, 1px);height: 1px;margin: -1px;overflow: hidden;padding: 0;position: absolute;width: 1px;}#sk-container-id-1 div.sk-estimator {font-family: monospace;background-color: #f0f8ff;border: 1px dotted black;border-radius: 0.25em;box-sizing: border-box;margin-bottom: 0.5em;}#sk-container-id-1 div.sk-estimator:hover {background-color: #d4ebff;}#sk-container-id-1 div.sk-parallel-item::after {content: \"\";width: 100%;border-bottom: 1px solid gray;flex-grow: 1;}#sk-container-id-1 div.sk-label:hover label.sk-toggleable__label {background-color: #d4ebff;}#sk-container-id-1 div.sk-serial::before {content: \"\";position: absolute;border-left: 1px solid gray;box-sizing: border-box;top: 0;bottom: 0;left: 50%;z-index: 0;}#sk-container-id-1 div.sk-serial {display: flex;flex-direction: column;align-items: center;background-color: white;padding-right: 0.2em;padding-left: 0.2em;position: relative;}#sk-container-id-1 div.sk-item {position: relative;z-index: 1;}#sk-container-id-1 div.sk-parallel {display: flex;align-items: stretch;justify-content: center;background-color: white;position: relative;}#sk-container-id-1 div.sk-item::before, #sk-container-id-1 div.sk-parallel-item::before {content: \"\";position: absolute;border-left: 1px solid gray;box-sizing: border-box;top: 0;bottom: 0;left: 50%;z-index: -1;}#sk-container-id-1 div.sk-parallel-item {display: flex;flex-direction: column;z-index: 1;position: relative;background-color: white;}#sk-container-id-1 div.sk-parallel-item:first-child::after {align-self: flex-end;width: 50%;}#sk-container-id-1 div.sk-parallel-item:last-child::after {align-self: flex-start;width: 50%;}#sk-container-id-1 div.sk-parallel-item:only-child::after {width: 0;}#sk-container-id-1 div.sk-dashed-wrapped {border: 1px dashed gray;margin: 0 0.4em 0.5em 0.4em;box-sizing: border-box;padding-bottom: 0.4em;background-color: white;}#sk-container-id-1 div.sk-label label {font-family: monospace;font-weight: bold;display: inline-block;line-height: 1.2em;}#sk-container-id-1 div.sk-label-container {text-align: center;}#sk-container-id-1 div.sk-container {/* jupyter's `normalize.less` sets `[hidden] { display: none; }` but bootstrap.min.css set `[hidden] { display: none !important; }` so we also need the `!important` here to be able to override the default hidden behavior on the sphinx rendered scikit-learn.org. See: https://github.com/scikit-learn/scikit-learn/issues/21755 */display: inline-block !important;position: relative;}#sk-container-id-1 div.sk-text-repr-fallback {display: none;}</style><div id=\"sk-container-id-1\" class=\"sk-top-container\"><div class=\"sk-text-repr-fallback\"><pre>DecisionTreeRegressor(max_depth=5)</pre><b>In a Jupyter environment, please rerun this cell to show the HTML representation or trust the notebook. <br />On GitHub, the HTML representation is unable to render, please try loading this page with nbviewer.org.</b></div><div class=\"sk-container\" hidden><div class=\"sk-item\"><div class=\"sk-estimator sk-toggleable\"><input class=\"sk-toggleable__control sk-hidden--visually\" id=\"sk-estimator-id-1\" type=\"checkbox\" checked><label for=\"sk-estimator-id-1\" class=\"sk-toggleable__label sk-toggleable__label-arrow\">DecisionTreeRegressor</label><div class=\"sk-toggleable__content\"><pre>DecisionTreeRegressor(max_depth=5)</pre></div></div></div></div></div>"
      ],
      "text/plain": [
       "DecisionTreeRegressor(max_depth=5)"
      ]
     },
     "execution_count": 3,
     "metadata": {},
     "output_type": "execute_result"
    }
   ],
   "source": [
    "from sklearn.tree import DecisionTreeRegressor\n",
    "from sklearn.metrics import mean_squared_error, mean_absolute_error\n",
    "\n",
    "model = DecisionTreeRegressor(criterion=\"squared_error\", max_depth=5)\n",
    "model"
   ]
  },
  {
   "cell_type": "code",
   "execution_count": 5,
   "id": "f99b8562",
   "metadata": {},
   "outputs": [
    {
     "name": "stdout",
     "output_type": "stream",
     "text": [
      "RMSE:  6.844898991342224\n",
      "MAE:  5.2853543913713406\n"
     ]
    }
   ],
   "source": [
    "model = DecisionTreeRegressor(criterion=\"squared_error\", max_depth=5)\n",
    "model.fit(X_train, y_train)\n",
    "y_hat = model.predict(X_test)\n",
    "print(\"RMSE: \", np.sqrt(mean_squared_error(y_test, y_hat)))\n",
    "print(\"MAE: \", mean_absolute_error(y_test, y_hat))\n"
   ]
  },
  {
   "cell_type": "code",
   "execution_count": null,
   "id": "9e267192",
   "metadata": {},
   "outputs": [],
   "source": [
    "import numpy as np\n",
    "import pandas as pd\n",
    "import time\n",
    "import matplotlib.pyplot as plt\n",
    "from ipywidgets import interact, IntSlider\n",
    "\n",
    "import pandas as pd\n",
    "import numpy as np\n",
    "import time\n",
    "import matplotlib.pyplot as plt\n",
    "from tree.base import DecisionTree\n",
    "from metrics import *\n",
    "import time\n",
    "\n",
    "def time_taken(N = 30, P = 5):\n",
    "    tasks = [\"RR\", \"RD\", \"DD\", \"DR\"]\n",
    "    time_taken_for_fit = {x: [] for x in tasks}\n",
    "    time_taken_for_predict = {x: [] for x in tasks}\n",
    "    num_average_time = 10\n",
    "    for i in range(num_average_time):\n",
    "        for task in tasks:\n",
    "            if task == \"RR\":\n",
    "                X = pd.DataFrame({i: pd.Series(np.random.randn(N), dtype=\"category\") for i in range(5)})\n",
    "                y = pd.Series(np.random.randn(N), dtype=\"category\")\n",
    "                tree = DecisionTree(criterion=\"information_gain\")  # Split based on Inf. Gain\n",
    "                start = time.time()\n",
    "                tree.fit(X, y)\n",
    "                end = time.time()\n",
    "                time_taken_for_fit[task].append(end - start)\n",
    "                start = time.time()\n",
    "                y_hat = tree.predict(X)\n",
    "                end = time.time()\n",
    "                time_taken_for_predict[task].append(end - start)\n",
    "            elif task == \"RD\":\n",
    "                X = pd.DataFrame({i: pd.Series(np.random.randn(N), dtype=\"category\") for i in range(5)})\n",
    "                y = pd.Series(np.random.randint(P, size=N), dtype=\"category\")\n",
    "                tree = DecisionTree(criterion=\"information_gain\")  # Split based on Inf. Gain\n",
    "                start = time.time()\n",
    "                tree.fit(X, y)\n",
    "                end = time.time()\n",
    "                time_taken_for_fit[task].append(end - start)\n",
    "                start = time.time()\n",
    "                y_hat = tree.predict(X)\n",
    "                end = time.time()\n",
    "                time_taken_for_predict[task].append(end - start)\n",
    "            elif task == \"DD\":\n",
    "\n",
    "                X = pd.DataFrame({i: pd.Series(np.random.randint(P, size=N), dtype=\"category\") for i in range(5)})\n",
    "                y = pd.Series(np.random.randint(P, size=N), dtype=\"category\")\n",
    "                tree = DecisionTree(criterion=\"information_gain\")  # Split based on Inf. Gain\n",
    "                start = time.time()\n",
    "                tree.fit(X, y)\n",
    "                end = time.time()\n",
    "                time_taken_for_fit[task].append(end - start)\n",
    "                start = time.time()\n",
    "                y_hat = tree.predict(X)\n",
    "                end = time.time()\n",
    "                time_taken_for_predict[task].append(end - start)\n",
    "            elif task == \"DR\":\n",
    "                X = pd.DataFrame({i: pd.Series(np.random.randint(P, size=N), dtype=\"category\") for i in range(5)})\n",
    "                y = pd.Series(np.random.randn(N), dtype=\"category\")\n",
    "                tree = DecisionTree(criterion=\"information_gain\")  # Split based on Inf. Gain\n",
    "                start = time.time()\n",
    "                tree.fit(X, y)\n",
    "                end = time.time()\n",
    "                time_taken_for_fit[task].append(end - start)\n",
    "                start = time.time()\n",
    "                y_hat = tree.predict(X)\n",
    "                end = time.time()\n",
    "                time_taken_for_predict[task].append(end - start)\n",
    "\n",
    "    # Function to calculate average time (and std) taken by fit() and predict() for different N and P for 4 different cases of DTs\n",
    "    avg_fit_time = {}\n",
    "    avg_predict_time = {}\n",
    "    for task in tasks:\n",
    "        avg_fit_time[task] = np.mean(time_taken_for_fit[task])\n",
    "        avg_predict_time[task] = np.mean(time_taken_for_predict[task])\n",
    "        print(task)\n",
    "        print(\"Average time taken for fit: \", np.mean(time_taken_for_fit[task]))\n",
    "        print(\"Average time taken for predict: \", np.mean(time_taken_for_predict[task]))\n",
    "        print(\"Standard deviation for fit: \", np.std(time_taken_for_fit[task]))\n",
    "        print(\"Standard deviation for predict: \", np.std(time_taken_for_predict[task]))\n",
    "    \n",
    "\n",
    "    return avg_fit_time, avg_predict_time\n",
    "\n",
    "\n",
    "def plot_time(N, P):\n",
    "    avg_fit, avg_predict = time_taken(N, P)\n",
    "\n",
    "    tasks = list(avg_fit.keys())\n",
    "\n",
    "    plt.figure(figsize=(10,5))\n",
    "\n",
    "    plt.subplot(1,2,1)\n",
    "    plt.bar(tasks, avg_fit.values())\n",
    "    plt.title(f\"Fit Time (N={N}, P={P})\")\n",
    "    plt.ylabel(\"Seconds\")\n",
    "\n",
    "    plt.subplot(1,2,2)\n",
    "    plt.bar(tasks, avg_predict.values())\n",
    "    plt.title(f\"Predict Time (N={N}, P={P})\")\n",
    "    plt.ylabel(\"Seconds\")\n",
    "\n",
    "    plt.show()"
   ]
  },
  {
   "cell_type": "code",
   "execution_count": null,
   "id": "0b8a6e2b",
   "metadata": {},
   "outputs": [
    {
     "data": {
      "application/vnd.jupyter.widget-view+json": {
       "model_id": "80827aa1452a4aeabb69010917baf9f7",
       "version_major": 2,
       "version_minor": 0
      },
      "text/plain": [
       "interactive(children=(IntSlider(value=30, description='N', max=500, min=10, step=10), IntSlider(value=5, descr…"
      ]
     },
     "metadata": {},
     "output_type": "display_data"
    },
    {
     "data": {
      "text/plain": [
       "<function __main__.plot_time(N, P)>"
      ]
     },
     "execution_count": 2,
     "metadata": {},
     "output_type": "execute_result"
    }
   ],
   "source": [
    "interact(\n",
    "    plot_time, \n",
    "    N=IntSlider(min=10, max=500, step=10, value=30, description=\"N\"),\n",
    "    P=IntSlider(min=2, max=50, step=1, value=5, description=\"P\")\n",
    ")"
   ]
  },
  {
   "cell_type": "code",
   "execution_count": 8,
   "id": "66d6d870",
   "metadata": {},
   "outputs": [],
   "source": [
    "import matplotlib.pyplot as plt\n",
    "\n",
    "def plot_time_growth(N_values=None, P_values=None):\n",
    "    if N_values is None:\n",
    "        N_values = [20, 30, ]\n",
    "    if P_values is None:\n",
    "        P_values = [2, 3, 5, ]\n",
    "\n",
    "    tasks = [\"RR\", \"RD\", \"DD\", \"DR\"]\n",
    "\n",
    "    results_fit = {task: [] for task in tasks}\n",
    "    results_predict = {task: [] for task in tasks}\n",
    "\n",
    "    for N in N_values:\n",
    "        avg_fit, avg_predict = time_taken(N=N, P=5)\n",
    "        for task in tasks:\n",
    "            results_fit[task].append(avg_fit[task])\n",
    "            results_predict[task].append(avg_predict[task])\n",
    "    \n",
    "    for task in tasks:\n",
    "        plt.plot(N_values, results_fit[task], label=f\"{task} - fit\")\n",
    "        plt.plot(N_values, results_predict[task], linestyle=\"--\", label=f\"{task} - predict\")\n",
    "\n",
    "    plt.xlabel(\"N (sample size)\")\n",
    "    plt.ylabel(\"Time (seconds)\")\n",
    "    plt.title(\"Growth of Decision Tree Time vs N\")\n",
    "    plt.legend()\n",
    "    plt.show()\n",
    "\n",
    "    # Now vary P while keeping N fixed (default N = 200)\n",
    "    results_fit = {task: [] for task in tasks}\n",
    "    results_predict = {task: [] for task in tasks}\n",
    "\n",
    "    for P in P_values:\n",
    "        avg_fit, avg_predict = time_taken(N=200, P=P)\n",
    "        for task in tasks:\n",
    "            results_fit[task].append(avg_fit[task])\n",
    "            results_predict[task].append(avg_predict[task])\n",
    "\n",
    "    # Plot growth with P\n",
    "    for task in tasks:\n",
    "        plt.plot(P_values, results_fit[task], label=f\"{task} - fit\")\n",
    "        plt.plot(P_values, results_predict[task], linestyle=\"--\", label=f\"{task} - predict\")\n",
    "\n",
    "    plt.xlabel(\"P (number of categories)\")\n",
    "    plt.ylabel(\"Time (seconds)\")\n",
    "    plt.title(\"Growth of Decision Tree Time vs P\")\n",
    "    plt.legend()\n",
    "    plt.show()\n"
   ]
  },
  {
   "cell_type": "code",
   "execution_count": 10,
   "id": "e0bdecea",
   "metadata": {},
   "outputs": [
    {
     "name": "stdout",
     "output_type": "stream",
     "text": [
      "RR\n",
      "RD\n",
      "DD\n",
      "DR\n",
      "RR\n",
      "RD\n",
      "DD\n",
      "DR\n"
     ]
    },
    {
     "data": {
      "image/png": "[encoded data removed]",
      "text/plain": [
       "<Figure size 640x480 with 1 Axes>"
      ]
     },
     "metadata": {},
     "output_type": "display_data"
    },
    {
     "name": "stdout",
     "output_type": "stream",
     "text": [
      "RR\n",
      "RD\n",
      "DD\n",
      "DR\n",
      "RR\n",
      "RD\n",
      "DD\n",
      "DR\n",
      "RR\n",
      "RD\n",
      "DD\n",
      "DR\n"
     ]
    },
    {
     "data": {
      "image/png": "[encoded data removed]",
      "text/plain": [
       "<Figure size 640x480 with 1 Axes>"
      ]
     },
     "metadata": {},
     "output_type": "display_data"
    }
   ],
   "source": [
    "plot_time_growth()"
   ]
  },
  {
   "cell_type": "code",
   "execution_count": null,
   "id": "e57736aa",
   "metadata": {},
   "outputs": [],
   "source": []
  }
 ],
 "metadata": {
  "kernelspec": {
   "display_name": "Python 3",
   "language": "python",
   "name": "python3"
  },
  "language_info": {
   "codemirror_mode": {
    "name": "ipython",
    "version": 3
   },
   "file_extension": ".py",
   "mimetype": "text/x-python",
   "name": "python",
   "nbconvert_exporter": "python",
   "pygments_lexer": "ipython3",
   "version": "3.11.1"
  }
 },
 "nbformat": 4,
 "nbformat_minor": 5
}
